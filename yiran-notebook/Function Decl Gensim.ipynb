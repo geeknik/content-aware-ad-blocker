{
 "cells": [
  {
   "cell_type": "code",
   "execution_count": 2,
   "metadata": {
    "collapsed": false
   },
   "outputs": [],
   "source": [
    "# imports and setup\n",
    "import json\n",
    "from itertools import islice, imap"
   ]
  },
  {
   "cell_type": "markdown",
   "metadata": {},
   "source": [
    "## Helper Functions"
   ]
  },
  {
   "cell_type": "code",
   "execution_count": 3,
   "metadata": {
    "collapsed": true
   },
   "outputs": [],
   "source": [
    "def parse_ast_line(line, sep=\"\\t\"):\n",
    "    script_id, ast_json = line.strip().split(sep, 1)\n",
    "    return script_id, json.loads(ast_json)\n",
    "      \n",
    "def parse_ast(lines):\n",
    "    for line in lines:\n",
    "        if len(line) > 1:\n",
    "            yield parse_ast_line(line)\n",
    "            \n",
    "def filter_ast_by_type(ast, type):\n",
    "    if _is_node_of_type(ast, type):\n",
    "        yield ast\n",
    "    elif isinstance(ast, dict):\n",
    "        for _, val in ast.iteritems():\n",
    "            for x in filter_ast_by_type(val, type):\n",
    "                yield x\n",
    "    elif isinstance(ast, list):\n",
    "        for val in ast:\n",
    "            for x in filter_ast_by_type(val, type):\n",
    "                yield x\n",
    "      \n",
    "def _is_node_of_type(d, type):\n",
    "    return isinstance(d, dict) and \\\n",
    "           \"type\" in d and \\\n",
    "           d[\"type\"] == type\n",
    "      \n",
    "def ast_types(ast):\n",
    "    if isinstance(ast, dict):\n",
    "        if \"type\" in ast:\n",
    "            yield ast[\"type\"]\n",
    "        for _, val in ast.iteritems():\n",
    "            for x in ast_types(val):\n",
    "                yield x\n",
    "    elif isinstance(ast, list):\n",
    "        for val in ast:\n",
    "            for x in ast_types(val):\n",
    "                yield x      "
   ]
  },
  {
   "cell_type": "markdown",
   "metadata": {},
   "source": [
    "## Filter AST nodes with type of Identifier\n",
    "\n",
    "Here, try one program, and print out all its identifiers."
   ]
  },
  {
   "cell_type": "code",
   "execution_count": 4,
   "metadata": {
    "collapsed": false
   },
   "outputs": [],
   "source": [
    "AST_FILE = '../lang/ast.json11'\n",
    "\n",
    "with open(AST_FILE, 'r') as f:\n",
    "    _, one_program = parse_ast(f.readlines()).next()"
   ]
  },
  {
   "cell_type": "code",
   "execution_count": 5,
   "metadata": {
    "collapsed": false
   },
   "outputs": [
    {
     "data": {
      "text/plain": [
       "{u'ArrayExpression',\n",
       " u'AssignmentExpression',\n",
       " u'BinaryExpression',\n",
       " u'BlockStatement',\n",
       " u'CallExpression',\n",
       " u'EmptyStatement',\n",
       " u'ExpressionStatement',\n",
       " u'FunctionExpression',\n",
       " u'Identifier',\n",
       " u'IfStatement',\n",
       " u'Literal',\n",
       " u'LogicalExpression',\n",
       " u'MemberExpression',\n",
       " u'ObjectExpression',\n",
       " u'Program',\n",
       " u'Property',\n",
       " u'ReturnStatement',\n",
       " u'ThisExpression',\n",
       " u'UnaryExpression',\n",
       " u'VariableDeclaration',\n",
       " u'VariableDeclarator'}"
      ]
     },
     "execution_count": 5,
     "metadata": {},
     "output_type": "execute_result"
    }
   ],
   "source": [
    "set( ast_types(one_program) )"
   ]
  },
  {
   "cell_type": "code",
   "execution_count": 6,
   "metadata": {
    "collapsed": false
   },
   "outputs": [
    {
     "data": {
      "text/plain": [
       "[{u'name': u'Number', u'type': u'Identifier'},\n",
       " {u'name': u'$n', u'type': u'Identifier'},\n",
       " {u'name': u'$n', u'type': u'Identifier'},\n",
       " {u'name': u'locale', u'type': u'Identifier'},\n",
       " {u'name': u'Drupal', u'type': u'Identifier'},\n",
       " {u'name': u'renderItem', u'type': u'Identifier'},\n",
       " {u'name': u'apachesolr_autocomplete', u'type': u'Identifier'},\n",
       " {u'name': u'Drupal', u'type': u'Identifier'},\n",
       " {u'name': u'_renderItem', u'type': u'Identifier'},\n",
       " {u'name': u'data', u'type': u'Identifier'}]"
      ]
     },
     "execution_count": 6,
     "metadata": {},
     "output_type": "execute_result"
    }
   ],
   "source": [
    "list(filter_ast_by_type(one_program, \"Identifier\"))[:10]"
   ]
  },
  {
   "cell_type": "markdown",
   "metadata": {},
   "source": [
    "## Naive word2vec\n",
    "\n",
    "Use identifier names as vocabulary."
   ]
  },
  {
   "cell_type": "code",
   "execution_count": 7,
   "metadata": {
    "collapsed": false
   },
   "outputs": [],
   "source": [
    "def should_keep_string(s):\n",
    "    return 1 < len(s) < 16\n",
    "def load_sentences(filename, sentences):\n",
    "    with open(filename, 'r') as f:\n",
    "        for id, program in parse_ast(f.readlines()):\n",
    "            idents = filter_ast_by_type(program, type=\"Identifier\")\n",
    "            idents = list( imap(lambda d:d[\"name\"], idents) )\n",
    "            lits = filter_ast_by_type(program, type=\"Literal\")\n",
    "            lits = [l[\"value\"] for l in lits \\\n",
    "                      if isinstance(l[\"value\"], str) and should_keep_string(l['value'])]\n",
    "            # sentence = idents + lits\n",
    "            sentences.append((id, idents))\n",
    "            sentences.append((id, lits))\n",
    "    return sentences"
   ]
  },
  {
   "cell_type": "code",
   "execution_count": 8,
   "metadata": {
    "collapsed": false
   },
   "outputs": [],
   "source": [
    "import sys\n",
    "paths = ['/home/yiran/.local/lib/python2.7/site-packages/PyOpenGL-3.0.1-py2.7.egg', '/home/yiran/.local/lib/python2.7/site-packages/ftputil-3.2-py2.7.egg', '/home/yiran/anaconda/lib/python27.zip', '/home/yiran/anaconda/lib/python2.7', '/home/yiran/anaconda/lib/python2.7/plat-linux2', '/home/yiran/anaconda/lib/python2.7/lib-tk', '/home/yiran/anaconda/lib/python2.7/lib-old', '/home/yiran/anaconda/lib/python2.7/lib-dynload', '/home/yiran/.local/lib/python2.7/site-packages', '/home/yiran/anaconda/lib/python2.7/site-packages/Sphinx-1.3.5-py2.7.egg', '/home/yiran/anaconda/lib/python2.7/site-packages/setuptools-19.6.2-py2.7.egg', '/home/yiran/anaconda/lib/python2.7/site-packages', '/home/yiran/anaconda/lib/python2.7/site-packages/cryptography-1.0.2-py2.7-linux-x86_64.egg']\n",
    "for p in paths:\n",
    "    sys.path.insert(0, p)"
   ]
  },
  {
   "cell_type": "code",
   "execution_count": 9,
   "metadata": {
    "collapsed": false
   },
   "outputs": [
    {
     "name": "stderr",
     "output_type": "stream",
     "text": [
      "Vendor:  Continuum Analytics, Inc.\n",
      "Package: mkl\n",
      "Message: trial mode expires in 30 days\n"
     ]
    }
   ],
   "source": [
    "from gensim.models.word2vec import Word2Vec\n",
    "from gensim.models.doc2vec import Doc2Vec, TaggedDocument\n",
    "import glob"
   ]
  },
  {
   "cell_type": "code",
   "execution_count": 10,
   "metadata": {
    "collapsed": false
   },
   "outputs": [
    {
     "name": "stdout",
     "output_type": "stream",
     "text": [
      "Loading ../lang/ast.json26\n",
      "Loading ../lang/ast.json45\n",
      "Loading ../lang/ast.json40\n",
      "Loading ../lang/ast.json36\n",
      "Loading ../lang/ast.json18\n",
      "Loading ../lang/ast.json02\n",
      "Loading ../lang/ast.json38\n",
      "Loading ../lang/ast.json47\n",
      "Loading ../lang/ast.json53\n",
      "Loading ../lang/ast.json66\n",
      "Loading ../lang/ast.json72\n",
      "Loading ../lang/ast.json04\n",
      "Loading ../lang/ast.json48\n",
      "Loading ../lang/ast.json65\n",
      "Loading ../lang/ast.json64\n",
      "Loading ../lang/ast.json49\n",
      "Loading ../lang/ast.json33\n",
      "Loading ../lang/ast.json30\n",
      "Loading ../lang/ast.json10\n",
      "Loading ../lang/ast.json51\n",
      "Loading ../lang/ast.json60\n",
      "Loading ../lang/ast.json31\n",
      "Loading ../lang/ast.json34\n",
      "Loading ../lang/ast.json75\n",
      "Loading ../lang/ast.json43\n",
      "Loading ../lang/ast.json73\n",
      "Loading ../lang/ast.json57\n",
      "Loading ../lang/ast.json14\n",
      "Loading ../lang/ast.json42\n",
      "Loading ../lang/ast.json08\n",
      "Loading ../lang/ast.json76\n",
      "Loading ../lang/ast.json63\n",
      "Loading ../lang/ast.json23\n",
      "Loading ../lang/ast.json71\n",
      "Loading ../lang/ast.json07\n",
      "Loading ../lang/ast.json50\n",
      "Loading ../lang/ast.json25\n",
      "Loading ../lang/ast.json39\n",
      "Loading ../lang/ast.json16\n",
      "Loading ../lang/ast.json28\n",
      "Loading ../lang/ast.json69\n",
      "Loading ../lang/ast.json74\n",
      "Loading ../lang/ast.json20\n",
      "Loading ../lang/ast.json13\n",
      "Loading ../lang/ast.json15\n",
      "Loading ../lang/ast.json70\n",
      "Loading ../lang/ast.json22\n",
      "Loading ../lang/ast.json05\n",
      "Loading ../lang/ast.json29\n",
      "Loading ../lang/ast.json32\n",
      "Loading ../lang/ast.json67\n",
      "Loading ../lang/ast.json21\n",
      "Loading ../lang/ast.json62\n",
      "Loading ../lang/ast.json27\n",
      "Loading ../lang/ast.json68\n",
      "Loading ../lang/ast.json61\n",
      "Loading ../lang/ast.json59\n",
      "Loading ../lang/ast.json35\n",
      "Loading ../lang/ast.json46\n",
      "Loading ../lang/ast.json58\n",
      "Loading ../lang/ast.json06\n",
      "Loading ../lang/ast.json00\n",
      "Loading ../lang/ast.json56\n",
      "Loading ../lang/ast.json19\n",
      "Loading ../lang/ast.json44\n",
      "Loading ../lang/ast.json09\n",
      "Loading ../lang/ast.json01\n",
      "Loading ../lang/ast.json54\n",
      "Loading ../lang/ast.json55\n",
      "Loading ../lang/ast.json03\n",
      "Loading ../lang/ast.json12\n",
      "Loading ../lang/ast.json41\n",
      "Loading ../lang/ast.json37\n",
      "Loading ../lang/ast.json17\n",
      "Loading ../lang/ast.json52\n",
      "Loading ../lang/ast.json11\n",
      "Loading ../lang/ast.json24\n"
     ]
    }
   ],
   "source": [
    "sentences = []\n",
    "for f in glob.glob(\"../lang/ast.json*\"):\n",
    "    print (\"Loading %s\" % f)\n",
    "    load_sentences(f, sentences)"
   ]
  },
  {
   "cell_type": "code",
   "execution_count": 19,
   "metadata": {
    "collapsed": false
   },
   "outputs": [],
   "source": [
    "def is_chart(s):\n",
    "    return len(s) == 1 and s.lower() in \"abcdefghijklmnopqrstuvwxyz\"\n",
    "\n",
    "def remove_single_char(sentences):\n",
    "    return [s.lower() for s in sentences if not is_char(s)]\n",
    "  \n",
    "docs = map(lambda (id,s): TaggedDocument(words=remove_single_char(s), tags=[id]), sentences)"
   ]
  },
  {
   "cell_type": "code",
   "execution_count": 20,
   "metadata": {
    "collapsed": false
   },
   "outputs": [],
   "source": [
    "model = Doc2Vec(docs, size=200, window=15, \n",
    "                min_count=5, workers=2, dm=0,\n",
    "                max_vocab_size=1000000,\n",
    "                hs=0, negative=5,\n",
    "                iter=20,\n",
    "                sample=5e-5,\n",
    "                dbow_words=1)"
   ]
  },
  {
   "cell_type": "code",
   "execution_count": 22,
   "metadata": {
    "collapsed": false
   },
   "outputs": [
    {
     "data": {
      "text/plain": [
       "[(u'appendchild', 0.7830908298492432),\n",
       " (u'getelementsbytagname', 0.7050471305847168),\n",
       " (u'classname', 0.6742371320724487),\n",
       " (u'innerhtml', 0.6652939319610596),\n",
       " (u'removechild', 0.6607442498207092),\n",
       " (u'setattribute', 0.6391154527664185),\n",
       " (u'insertbefore', 0.6216260194778442),\n",
       " (u'firstchild', 0.6055293083190918),\n",
       " (u'document', 0.6001043319702148),\n",
       " (u'createtextnode', 0.5787196755409241)]"
      ]
     },
     "execution_count": 22,
     "metadata": {},
     "output_type": "execute_result"
    }
   ],
   "source": [
    "model.most_similar(positive=\"createelement\")"
   ]
  },
  {
   "cell_type": "code",
   "execution_count": 23,
   "metadata": {
    "collapsed": false
   },
   "outputs": [
    {
     "data": {
      "text/plain": [
       "[(u'datatype', 0.7558028101921082),\n",
       " (u'success', 0.639014482498169),\n",
       " (u'beforesend', 0.617257833480835),\n",
       " (u'url', 0.6130246520042419),\n",
       " (u'eventresponse', 0.593224823474884),\n",
       " (u'keypressresponse', 0.590523898601532),\n",
       " (u'updatefilters', 0.571739137172699),\n",
       " (u'responsetext', 0.5300601124763489),\n",
       " (u'ajaxing', 0.5285371541976929),\n",
       " (u'new_mdp', 0.5220765471458435)]"
      ]
     },
     "execution_count": 23,
     "metadata": {},
     "output_type": "execute_result"
    }
   ],
   "source": [
    "model.most_similar(\"ajax\")"
   ]
  },
  {
   "cell_type": "code",
   "execution_count": 24,
   "metadata": {
    "collapsed": true
   },
   "outputs": [],
   "source": [
    "doc2vec_model = model"
   ]
  },
  {
   "cell_type": "code",
   "execution_count": 28,
   "metadata": {
    "collapsed": true
   },
   "outputs": [],
   "source": [
    "import random\n",
    "import re\n",
    "import numpy as np\n",
    "\n",
    "from sklearn.feature_extraction.text import CountVectorizer\n",
    "from sklearn.feature_extraction.text import HashingVectorizer\n",
    "from sklearn.feature_extraction.text import TfidfVectorizer\n",
    "\n",
    "from sklearn.svm import SVC\n",
    "from sklearn.naive_bayes import BernoulliNB,MultinomialNB\n",
    "from sklearn import linear_model"
   ]
  },
  {
   "cell_type": "code",
   "execution_count": 29,
   "metadata": {
    "collapsed": false
   },
   "outputs": [
    {
     "name": "stdout",
     "output_type": "stream",
     "text": [
      "328 positive and 328 negative examples.\n"
     ]
    }
   ],
   "source": [
    "with open(\"./table_flag.json\") as f:\n",
    "    table = json.load(f)\n",
    "    \n",
    "positive_examples = [i for i, e in enumerate(table) if e[\"flag-any\"] == 1]\n",
    "negative_examples = [i for i, e in enumerate(table) if e[\"flag-any\"] == 0]\n",
    "random.shuffle(positive_examples)\n",
    "random.shuffle(negative_examples)\n",
    "negative_examples = negative_examples[:len(positive_examples)]\n",
    "print \"%d positive and %d negative examples.\" % (len(positive_examples), len(negative_examples))\n",
    "\n",
    "train_table = [table[i] for i in positive_examples[:200]] + [table[i] for i in negative_examples[:200]]\n",
    "test_table = [table[i] for i in positive_examples[200:]] + [table[i] for i in negative_examples[200:]]"
   ]
  },
  {
   "cell_type": "code",
   "execution_count": 30,
   "metadata": {
    "collapsed": false
   },
   "outputs": [],
   "source": [
    "def get_features(table, model):\n",
    "    X = np.zeros(shape=(len(table), model.vector_size))\n",
    "    not_missing = []\n",
    "    for i,cell in enumerate(table):\n",
    "        if cell[\"sha\"] in model.docvecs:\n",
    "            not_missing.append(i)\n",
    "            X[i] = model.docvecs[cell[\"sha\"]]\n",
    "    return X, np.array(not_missing)"
   ]
  },
  {
   "cell_type": "code",
   "execution_count": 31,
   "metadata": {
    "collapsed": false
   },
   "outputs": [],
   "source": [
    "X_train, train_keep = get_features(train_table, model)\n",
    "X_test, test_keep = get_features(test_table, model)\n",
    "\n",
    "\n",
    "Y_train = np.array([item[\"flag-any\"] for item in train_table])\n",
    "Y_test = np.array([item[\"flag-any\"] for item in test_table])\n",
    "\n",
    "X_train = X_train[train_keep]\n",
    "X_test = X_test[test_keep]\n",
    "Y_train = Y_train[train_keep]\n",
    "Y_test = Y_test[test_keep]"
   ]
  },
  {
   "cell_type": "code",
   "execution_count": 32,
   "metadata": {
    "collapsed": false
   },
   "outputs": [
    {
     "data": {
      "text/plain": [
       "array([[-0.05647162,  0.07979779,  0.13874571, ..., -0.32694811,\n",
       "        -0.00296148, -0.07046972],\n",
       "       [ 0.05981288,  0.02987484,  0.05384297, ..., -0.07373006,\n",
       "         0.09519708, -0.05659505],\n",
       "       [ 0.45967886,  0.56281298,  0.2791875 , ..., -0.15507841,\n",
       "        -0.27003232, -0.47069818],\n",
       "       ..., \n",
       "       [ 0.0357193 , -0.04053598, -0.00395663, ...,  0.01871301,\n",
       "         0.00543078, -0.01476625],\n",
       "       [ 0.03593505,  0.02288858,  0.01038239, ...,  0.0116191 ,\n",
       "        -0.04680463, -0.02305219],\n",
       "       [ 0.08578591,  0.24274816, -0.08316214, ..., -0.18644308,\n",
       "        -0.2454115 ,  0.20583117]])"
      ]
     },
     "execution_count": 32,
     "metadata": {},
     "output_type": "execute_result"
    }
   ],
   "source": [
    "X_train"
   ]
  },
  {
   "cell_type": "code",
   "execution_count": 33,
   "metadata": {
    "collapsed": false
   },
   "outputs": [
    {
     "name": "stdout",
     "output_type": "stream",
     "text": [
      "Baseline: 123/249 = 49.397590%\n",
      "Accuracy: 192/249 = 77.108434%\n"
     ]
    }
   ],
   "source": [
    "model = BernoulliNB()\n",
    "model.fit(X_train, Y_train)\n",
    "test_pred = model.predict(X_test)\n",
    "\n",
    "print \"Baseline: %d/%d = %f%%\" % (sum(Y_test == 0), len(Y_test), ((float(sum(Y_test == 0)) / len(Y_test)) * 100))\n",
    "print \"Accuracy: %d/%d = %f%%\" % (sum(Y_test == test_pred), len(Y_test), ((float(sum(Y_test == test_pred)) / len(Y_test)) * 100))"
   ]
  },
  {
   "cell_type": "code",
   "execution_count": 34,
   "metadata": {
    "collapsed": false
   },
   "outputs": [
    {
     "name": "stdout",
     "output_type": "stream",
     "text": [
      "Baseline: 123/249 = 49.397590%\n",
      "Accuracy: 184/249 = 73.895582%\n"
     ]
    }
   ],
   "source": [
    "model = SVC()\n",
    "model.fit(X_train, Y_train)\n",
    "test_pred = model.predict(X_test)\n",
    "\n",
    "print \"Baseline: %d/%d = %f%%\" % (sum(Y_test == 0), len(Y_test), ((float(sum(Y_test == 0)) / len(Y_test)) * 100))\n",
    "print \"Accuracy: %d/%d = %f%%\" % (sum(Y_test == test_pred), len(Y_test), ((float(sum(Y_test == test_pred)) / len(Y_test)) * 100))"
   ]
  },
  {
   "cell_type": "code",
   "execution_count": 35,
   "metadata": {
    "collapsed": false
   },
   "outputs": [
    {
     "name": "stdout",
     "output_type": "stream",
     "text": [
      "Baseline: 123/249 = 49.397590%\n",
      "Accuracy: 180/249 = 72.289157%\n"
     ]
    }
   ],
   "source": [
    "model = linear_model.SGDClassifier(class_weight=\"auto\")\n",
    "model.fit(X_train, Y_train)\n",
    "test_pred = model.predict(X_test)\n",
    "\n",
    "print \"Baseline: %d/%d = %f%%\" % (sum(Y_test == 0), len(Y_test), ((float(sum(Y_test == 0)) / len(Y_test)) * 100))\n",
    "print \"Accuracy: %d/%d = %f%%\" % (sum(Y_test == test_pred), len(Y_test), ((float(sum(Y_test == test_pred)) / len(Y_test)) * 100))"
   ]
  }
 ],
 "metadata": {
  "kernelspec": {
   "display_name": "Python 2",
   "language": "python",
   "name": "python2"
  },
  "language_info": {
   "codemirror_mode": {
    "name": "ipython",
    "version": 2
   },
   "file_extension": ".py",
   "mimetype": "text/x-python",
   "name": "python",
   "nbconvert_exporter": "python",
   "pygments_lexer": "ipython2",
   "version": "2.7.12"
  }
 },
 "nbformat": 4,
 "nbformat_minor": 0
}
