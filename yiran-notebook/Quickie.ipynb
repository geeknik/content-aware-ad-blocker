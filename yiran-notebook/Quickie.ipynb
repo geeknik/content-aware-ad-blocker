{
 "cells": [
  {
   "cell_type": "code",
   "execution_count": 2,
   "metadata": {
    "collapsed": true
   },
   "outputs": [],
   "source": [
    "FILE = '../lang/expressions.json-lines'\n",
    "\n",
    "import json\n",
    "\n",
    "pairs = []\n",
    "\n",
    "with open(FILE, 'r') as f:\n",
    "    for line in f.readlines():\n",
    "        node = json.loads(line)\n",
    "        pairs.append((node['object']['name'], node['property']['name']))"
   ]
  },
  {
   "cell_type": "code",
   "execution_count": 3,
   "metadata": {
    "collapsed": true
   },
   "outputs": [],
   "source": [
    "from gensim.models.word2vec import Word2Vec"
   ]
  },
  {
   "cell_type": "code",
   "execution_count": 4,
   "metadata": {
    "collapsed": false
   },
   "outputs": [
    {
     "data": {
      "text/plain": [
       "2967165"
      ]
     },
     "execution_count": 4,
     "metadata": {},
     "output_type": "execute_result"
    }
   ],
   "source": [
    "len(pairs)"
   ]
  },
  {
   "cell_type": "code",
   "execution_count": 27,
   "metadata": {
    "collapsed": false
   },
   "outputs": [],
   "source": [
    "model = Word2Vec(pairs, size=200, window=3, \n",
    "                min_count=5, workers=4,\n",
    "                max_vocab_size=1000000,\n",
    "                hs=0, negative=32,\n",
    "                iter=20,\n",
    "                sample=5e-5)"
   ]
  },
  {
   "cell_type": "code",
   "execution_count": 28,
   "metadata": {
    "collapsed": false
   },
   "outputs": [
    {
     "data": {
      "text/plain": [
       "51003"
      ]
     },
     "execution_count": 28,
     "metadata": {},
     "output_type": "execute_result"
    }
   ],
   "source": [
    "len(model.vocab)"
   ]
  },
  {
   "cell_type": "code",
   "execution_count": 29,
   "metadata": {
    "collapsed": false
   },
   "outputs": [
    {
     "data": {
      "text/plain": [
       "[(u'getCookie', 0.9771168231964111),\n",
       " (u'deleteCookie', 0.9433586597442627),\n",
       " (u'uniqKey', 0.9292669296264648),\n",
       " (u'meteorRedirectCookieKey', 0.9096536636352539),\n",
       " (u'expandit', 0.8997475504875183),\n",
       " (u'collapseit', 0.8972492218017578),\n",
       " (u'setSessionCookie', 0.8860288858413696),\n",
       " (u'_pk_plug_ie', 0.8815728425979614),\n",
       " (u'getCookieName', 0.8686108589172363),\n",
       " (u'getCookieDomain', 0.8652716875076294)]"
      ]
     },
     "execution_count": 29,
     "metadata": {},
     "output_type": "execute_result"
    }
   ],
   "source": [
    "model.most_similar(positive=[\"setCookie\"])"
   ]
  },
  {
   "cell_type": "code",
   "execution_count": 39,
   "metadata": {
    "collapsed": false
   },
   "outputs": [
    {
     "data": {
      "text/plain": [
       "[(u'height', 0.9103403091430664),\n",
       " (u'innerHeight', 0.7066470384597778),\n",
       " (u'innerWidth', 0.695841908454895),\n",
       " (u'adjustable', 0.6802653074264526),\n",
       " (u'colorDepth', 0.6755406856536865),\n",
       " (u'styleclass', 0.6747227907180786),\n",
       " (u'inner_h', 0.663885235786438),\n",
       " (u'imgObject', 0.6631718873977661),\n",
       " (u'pixelDepth', 0.6574691534042358),\n",
       " (u'oversized', 0.6469024419784546)]"
      ]
     },
     "execution_count": 39,
     "metadata": {},
     "output_type": "execute_result"
    }
   ],
   "source": [
    "model.most_similar(positive=[\"width\"])"
   ]
  },
  {
   "cell_type": "code",
   "execution_count": 41,
   "metadata": {
    "collapsed": false
   },
   "outputs": [
    {
     "data": {
      "text/plain": [
       "[(u'POPUP_MANAGER', 0.7828466892242432),\n",
       " (u'tickerObject', 0.77100670337677),\n",
       " (u'_api', 0.7351781129837036),\n",
       " (u'QUOTA_EXCEEDED_ERR', 0.6148488521575928),\n",
       " (u'_cfHelp', 0.6034773588180542),\n",
       " (u'jspApi', 0.6013340950012207),\n",
       " (u'SYNTAX_ERR', 0.5949546098709106),\n",
       " (u'removeParam', 0.5834997296333313),\n",
       " (u'currentScrollDecile', 0.5802657008171082),\n",
       " (u'bloggersCarouselData', 0.5795881748199463)]"
      ]
     },
     "execution_count": 41,
     "metadata": {},
     "output_type": "execute_result"
    }
   ],
   "source": [
    "model.most_similar(positive=[\"api\"])"
   ]
  },
  {
   "cell_type": "code",
   "execution_count": 42,
   "metadata": {
    "collapsed": false
   },
   "outputs": [
    {
     "data": {
      "text/plain": [
       "[(u'table1', 0.8718721866607666),\n",
       " (u'challengeTable', 0.8226222991943359),\n",
       " (u'insertobj', 0.8043825626373291),\n",
       " (u'oTable', 0.7817423939704895),\n",
       " (u'oFmtTable', 0.7471421957015991),\n",
       " (u'wedgeindex', 0.7177858352661133),\n",
       " (u'AuthService', 0.6881786584854126),\n",
       " (u'parCopy', 0.6789742112159729),\n",
       " (u'wedge', 0.6713061332702637),\n",
       " (u'emptyList', 0.6693952083587646)]"
      ]
     },
     "execution_count": 42,
     "metadata": {},
     "output_type": "execute_result"
    }
   ],
   "source": [
    "model.most_similar(positive=[\"table\"])"
   ]
  },
  {
   "cell_type": "code",
   "execution_count": 47,
   "metadata": {
    "collapsed": false
   },
   "outputs": [
    {
     "data": {
      "text/plain": [
       "[(u'top', 0.8700135946273804),\n",
       " (u'right', 0.7741943597793579),\n",
       " (u'bottom', 0.769921064376831),\n",
       " (u'margin_top', 0.6885279417037964),\n",
       " (u'startselected', 0.6880750060081482),\n",
       " (u'selecting', 0.6844128370285034),\n",
       " (u'unselecting', 0.6842827796936035),\n",
       " (u'side1', 0.664460301399231),\n",
       " (u'bitMatrix', 0.6530413627624512),\n",
       " (u'prevComputedStyle', 0.6332520246505737)]"
      ]
     },
     "execution_count": 47,
     "metadata": {},
     "output_type": "execute_result"
    }
   ],
   "source": [
    "model.most_similar(positive=[\"width\", \"left\"], negative=[\"height\"])"
   ]
  },
  {
   "cell_type": "code",
   "execution_count": 52,
   "metadata": {
    "collapsed": false
   },
   "outputs": [
    {
     "data": {
      "text/plain": [
       "[(u'oMap', 0.7487074136734009),\n",
       " (u'maplet', 0.7426469326019287),\n",
       " (u'mapInstance', 0.7401130199432373),\n",
       " (u'panning_map_obj', 0.7313191890716553),\n",
       " (u'mapObject', 0.7301673889160156),\n",
       " (u'cropper', 0.7240003347396851),\n",
       " (u'$gmap', 0.7235219478607178),\n",
       " (u'baseMap', 0.7064242362976074),\n",
       " (u'map1', 0.688413143157959),\n",
       " (u'p_uniforms', 0.6853185296058655)]"
      ]
     },
     "execution_count": 52,
     "metadata": {},
     "output_type": "execute_result"
    }
   ],
   "source": [
    "model.most_similar(positive=[\"map\", \"object\"])"
   ]
  }
 ],
 "metadata": {
  "anaconda-cloud": {},
  "kernelspec": {
   "display_name": "Python [conda root]",
   "language": "python",
   "name": "conda-root-py"
  },
  "language_info": {
   "codemirror_mode": {
    "name": "ipython",
    "version": 2
   },
   "file_extension": ".py",
   "mimetype": "text/x-python",
   "name": "python",
   "nbconvert_exporter": "python",
   "pygments_lexer": "ipython2",
   "version": "2.7.12"
  }
 },
 "nbformat": 4,
 "nbformat_minor": 1
}
