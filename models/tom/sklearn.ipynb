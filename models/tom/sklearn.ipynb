{
 "cells": [
  {
   "cell_type": "code",
   "execution_count": 1,
   "metadata": {
    "collapsed": false
   },
   "outputs": [],
   "source": [
    "# Display matplotlib plots in the output\n",
    "%matplotlib inline\n",
    "\n",
    "# Support for running R code in the same notebook as Python (see below)\n",
    "%load_ext rpy2.ipython\n",
    "\n",
    "import json\n",
    "import random\n",
    "import re\n",
    "import numpy as np\n",
    "import pandas as pd\n",
    "\n",
    "from sklearn.feature_extraction.text import CountVectorizer\n",
    "from sklearn.feature_extraction.text import HashingVectorizer\n",
    "from sklearn.feature_extraction.text import TfidfVectorizer\n",
    "\n",
    "from sklearn.svm import *\n",
    "from sklearn.naive_bayes import BernoulliNB\n",
    "from sklearn import linear_model\n",
    "from sklearn.neighbors import KNeighborsClassifier\n",
    "from sklearn.neural_network import MLPClassifier\n",
    "from sklearn.ensemble import RandomForestClassifier, AdaBoostClassifier\n",
    "from sklearn.ensemble import VotingClassifier\n",
    "\n",
    "from scipy.sparse import coo_matrix, vstack"
   ]
  },
  {
   "cell_type": "code",
   "execution_count": 22,
   "metadata": {
    "collapsed": false
   },
   "outputs": [],
   "source": [
    "REPO_ROOT = \"/usr/src/app\"\n",
    "\n",
    "def tokenize_js(script):\n",
    "    script = re.sub(r'(\\/\\*[^*]+\\*\\/)', \"\", script)\n",
    "    script = re.sub(r'\\/\\/.+', \"\", script)\n",
    "    tokens = re.findall(r'(\\\"[^\"]+\\\"|\\'[^\\']+\\'|[\\w\\\\\\/\\-_\\\"\\']+|{|}|,|[\\+\\*]|\\(|\\)|\\.|/\\*.+\\*\\/)', script)\n",
    "    return [t.lower() for t in tokens]\n",
    "\n",
    "def parse_scripts(tbl):\n",
    "    for item in tbl:\n",
    "        with open(\"%s/scripts/%s.js\" % (REPO_ROOT, item[\"sha\"])) as f:\n",
    "            yield f.read().decode(errors='replace')\n",
    "\n",
    "def _tokenize_helper(node):\n",
    "    if isinstance(node, basestring):\n",
    "        return [node]\n",
    "    if isinstance(node, bool):\n",
    "        return [\"True\" if node else \"False\"]\n",
    "    if isinstance(node, list):\n",
    "        return [x for v in node for x in _tokenize_helper(v)]\n",
    "    if node is None:\n",
    "        return []\n",
    "    \n",
    "    lst = [\".\".join([\n",
    "        \"%s:%s\" % (key, val)\n",
    "        for key, val in node.iteritems()\n",
    "        if not isinstance(val, dict) and not isinstance(val, list)\n",
    "    ])]\n",
    "    \n",
    "    for key, val in node.iteritems():\n",
    "        if isinstance(val, dict) or isinstance(val, list):\n",
    "            lst += _tokenize_helper(val)\n",
    "    \n",
    "    return lst\n",
    "\n",
    "def tokenize_js_ast(ast):\n",
    "    try:\n",
    "        ast_json = json.loads(ast)\n",
    "    except Exception as e:\n",
    "        print \"Failed to parse JSON! %s\" % str(e)\n",
    "        return []\n",
    "    return [t.lower() for t in _tokenize_helper(ast_json)]\n",
    "    \n",
    "def parse_scripts_ast(tbl):\n",
    "    for item in tbl:\n",
    "        try:\n",
    "            with open(\"%s/scripts-ast/%s.js.ast\" % (REPO_ROOT, item[\"sha\"])) as f:\n",
    "                yield f.read()\n",
    "        except IOError:\n",
    "            yield \"[]\"\n",
    "\n",
    "def train_all(tokenizer, parser):\n",
    "    X_train = {}\n",
    "    Y_train = {}\n",
    "    X_test = {}\n",
    "    Y_test = {}\n",
    "\n",
    "    for train_size in TRAIN_SIZES:\n",
    "        print \"Training size %d\" % train_size\n",
    "        vectorizer = TfidfVectorizer(tokenizer=tokenizer)\n",
    "        X_train[train_size] = vectorizer.fit_transform(parser(train_tables[train_size]))\n",
    "        Y_train[train_size] = np.array([item[\"flag-any\"] for item in train_tables[train_size]])\n",
    "        X_test[train_size] = vectorizer.transform(parser(test_table))\n",
    "        Y_test[train_size] = np.array([item[\"flag-any\"] for item in test_table])\n",
    "        \n",
    "    return X_train, Y_train, X_test, Y_test\n",
    "\n",
    "def test_model(model, model_type, model_name):\n",
    "    for train_size in TRAIN_SIZES:\n",
    "        model.fit(X_train[train_size], Y_train[train_size])\n",
    "        test_pred = model.predict(X_test[train_size])\n",
    "        test_y = Y_test[train_size]\n",
    "        \n",
    "        accuracy = (float(sum(test_y == test_pred))) / len(test_pred)\n",
    "        precision = (float(sum((test_y == test_pred) & (test_pred == 1)))) / float(max(1, sum(test_pred == 1)))\n",
    "        recall = (float(sum((test_y == test_pred) & (test_pred == 1)))) / float(sum(test_y == 1))\n",
    "        f1 = 2 * (precision * recall) / max(1, precision + recall)\n",
    "\n",
    "        print \"%s %s. Train set size %d. %f%% / %f%% / %f%% (%f)\" % (\n",
    "            model_type,\n",
    "            model_name,\n",
    "            train_size,\n",
    "            accuracy * 100,\n",
    "            precision * 100,\n",
    "            recall * 100,\n",
    "            f1)\n",
    "        \n",
    "        output_table.append([\n",
    "            model_type,\n",
    "            model_name,\n",
    "            train_size, \n",
    "            accuracy,\n",
    "            precision,\n",
    "            recall,\n",
    "            f1,\n",
    "        ])\n",
    "        \n",
    "def write_results():\n",
    "    output = (\"Model,Training set,Accuracy,Precision,Recall,F1 score\\n\" +\n",
    "        \"\\n\".join([\",\".join([str(s) for s in row]) for row in output_table]))\n",
    "    with open(\"%s/results/linear_models.csv\" % REPO_ROOT, \"w\") as f:\n",
    "        f.write(output)\n",
    "        \n",
    "def write_min_dataset():\n",
    "    min_table = (\n",
    "            [table[i] for i in positive_examples] + \n",
    "            [table[i] for i in negative_examples])\n",
    "    with open(\"%s/scripts/min/table_flag.json\" % REPO_ROOT, \"w\") as f:\n",
    "        json.dump(min_table, f)\n",
    "    \n",
    "    for item in min_table:\n",
    "        with open(\"%s/scripts/%s.js\" % (REPO_ROOT, item[\"sha\"])) as f1:\n",
    "            with open(\"%s/scripts/min/%s.js\" % (REPO_ROOT, item[\"sha\"]), \"w\") as f2:\n",
    "                f2.write(f1.read())\n",
    "    print \"Wrote %d items\" % len(min_table)        "
   ]
  },
  {
   "cell_type": "code",
   "execution_count": 3,
   "metadata": {
    "collapsed": false,
    "scrolled": true
   },
   "outputs": [
    {
     "name": "stdout",
     "output_type": "stream",
     "text": [
      "103314 items in raw table.\n",
      "53547 unique scripts.\n",
      "3582 positive + 3582 negative examples = 7164 total.\n",
      "Training sizes: [375, 750, 1500, 3000, 6000]\n",
      "Test size: 1164\n"
     ]
    }
   ],
   "source": [
    "with open(\"%s/scripts/table_flag.json\" % REPO_ROOT) as f:\n",
    "    raw_table = json.load(f)\n",
    "\n",
    "# Filter out inline scripts for now\n",
    "raw_table = [i for i in raw_table if i[\"inline\"] == False]\n",
    "\n",
    "scripts_table = {}\n",
    "for item in raw_table:\n",
    "    if item[\"sha\"] not in scripts_table:\n",
    "        scripts_table[item[\"sha\"]] = item\n",
    "        scripts_table[item[\"sha\"]][\"count\"] = 0\n",
    "        \n",
    "    for entry in item:\n",
    "        if entry.startswith(\"flag-\"):\n",
    "            if item[entry] == 1:\n",
    "                scripts_table[item[\"sha\"]][entry] = 1\n",
    "                \n",
    "    scripts_table[item[\"sha\"]][\"count\"] += 1\n",
    "    \n",
    "table = scripts_table.values()\n",
    "\n",
    "positive_examples = [i for i, e in enumerate(table) if e[\"flag-any\"] == 1]\n",
    "negative_examples = [i for i, e in enumerate(table) if e[\"flag-any\"] == 0]\n",
    "random.seed(1492)\n",
    "random.shuffle(positive_examples)\n",
    "random.shuffle(negative_examples)\n",
    "negative_examples = negative_examples[:len(positive_examples)]\n",
    "TOTAL_SIZE = len(positive_examples)+len(negative_examples)\n",
    "print \"%d items in raw table.\" % len(raw_table)\n",
    "print \"%d unique scripts.\" % len(table)\n",
    "print \"%d positive + %d negative examples = %d total.\" % (\n",
    "    len(positive_examples), len(negative_examples),\n",
    "    TOTAL_SIZE)\n",
    "\n",
    "TRAIN_SIZES = []\n",
    "size = 375\n",
    "while size < TOTAL_SIZE - 1000:\n",
    "    TRAIN_SIZES.append(size)\n",
    "    size *= 2\n",
    "    \n",
    "TEST_SIZE = TOTAL_SIZE - TRAIN_SIZES[-1]\n",
    "\n",
    "print \"Training sizes: %s\" % TRAIN_SIZES\n",
    "print \"Test size: %d\" % TEST_SIZE\n",
    "\n",
    "train_tables = {}\n",
    "for train_size in TRAIN_SIZES:\n",
    "    train_tables[train_size] = (\n",
    "        [table[i] for i in positive_examples[:(train_size/2)]] + \n",
    "        [table[i] for i in negative_examples[:(train_size/2)]])\n",
    "\n",
    "test_table = (\n",
    "    [table[i] for i in positive_examples[-TEST_SIZE/2:]] + \n",
    "    [table[i] for i in negative_examples[-TEST_SIZE/2:]])"
   ]
  },
  {
   "cell_type": "code",
   "execution_count": 4,
   "metadata": {
    "collapsed": true
   },
   "outputs": [],
   "source": [
    "output_table = []"
   ]
  },
  {
   "cell_type": "code",
   "execution_count": 5,
   "metadata": {
    "collapsed": false
   },
   "outputs": [
    {
     "name": "stdout",
     "output_type": "stream",
     "text": [
      "Training size 375\n",
      "Training size 750\n",
      "Training size 1500\n",
      "Training size 3000\n",
      "Training size 6000\n"
     ]
    }
   ],
   "source": [
    "X_train, Y_train, X_test, Y_test = train_all(tokenize_js, parse_scripts)"
   ]
  },
  {
   "cell_type": "code",
   "execution_count": 6,
   "metadata": {
    "collapsed": false
   },
   "outputs": [
    {
     "name": "stdout",
     "output_type": "stream",
     "text": [
      "RegEx KNN. Train set size 375. 77.663230% / 84.401709% / 67.869416% (0.752381)\n",
      "RegEx KNN. Train set size 750. 78.865979% / 83.600000% / 71.821306% (0.772643)\n",
      "RegEx KNN. Train set size 1500. 81.271478% / 87.295082% / 73.195876% (0.796262)\n",
      "RegEx KNN. Train set size 3000. 83.333333% / 88.339921% / 76.804124% (0.821691)\n",
      "RegEx KNN. Train set size 6000. 84.536082% / 89.105058% / 78.694158% (0.835766)\n"
     ]
    }
   ],
   "source": [
    "test_model(KNeighborsClassifier(2), \"RegEx\", \"KNN\")"
   ]
  },
  {
   "cell_type": "code",
   "execution_count": 7,
   "metadata": {
    "collapsed": false
   },
   "outputs": [
    {
     "name": "stdout",
     "output_type": "stream",
     "text": [
      "RegEx Bernoulli. Train set size 375. 58.247423% / 54.651163% / 96.907216% (0.698885)\n",
      "RegEx Bernoulli. Train set size 750. 60.309278% / 55.952381% / 96.907216% (0.709434)\n",
      "RegEx Bernoulli. Train set size 1500. 61.683849% / 56.868687% / 96.735395% (0.716285)\n",
      "RegEx Bernoulli. Train set size 3000. 64.347079% / 58.670820% / 97.079038% (0.731392)\n",
      "RegEx Bernoulli. Train set size 6000. 65.635739% / 59.498956% / 97.938144% (0.740260)\n"
     ]
    }
   ],
   "source": [
    "test_model(BernoulliNB(), \"RegEx\", \"Bernoulli\")"
   ]
  },
  {
   "cell_type": "code",
   "execution_count": 8,
   "metadata": {
    "collapsed": false
   },
   "outputs": [
    {
     "name": "stdout",
     "output_type": "stream",
     "text": [
      "RegEx SGD. Train set size 375. 79.295533% / 82.725528% / 74.054983% (0.781505)\n",
      "RegEx SGD. Train set size 750. 81.615120% / 82.974910% / 79.553265% (0.812281)\n",
      "RegEx SGD. Train set size 1500. 81.872852% / 85.199241% / 77.147766% (0.809739)\n",
      "RegEx SGD. Train set size 3000. 84.450172% / 86.788991% / 81.271478% (0.839397)\n",
      "RegEx SGD. Train set size 6000. 85.223368% / 87.822878% / 81.786942% (0.846975)\n"
     ]
    }
   ],
   "source": [
    "test_model(linear_model.SGDClassifier(n_iter=1000, loss=\"log\"), \"RegEx\", \"SGD\")"
   ]
  },
  {
   "cell_type": "code",
   "execution_count": 9,
   "metadata": {
    "collapsed": false
   },
   "outputs": [
    {
     "name": "stdout",
     "output_type": "stream",
     "text": [
      "RegEx RandomForest. Train set size 375. 72.250859% / 66.167291% / 91.065292% (0.766450)\n",
      "RegEx RandomForest. Train set size 750. 74.484536% / 68.015171% / 92.439863% (0.783685)\n",
      "RegEx RandomForest. Train set size 1500. 73.109966% / 66.875784% / 91.580756% (0.773024)\n",
      "RegEx RandomForest. Train set size 3000. 72.250859% / 65.696970% / 93.127148% (0.770434)\n",
      "RegEx RandomForest. Train set size 6000. 70.532646% / 64.380265% / 91.924399% (0.757254)\n"
     ]
    }
   ],
   "source": [
    "test_model(RandomForestClassifier(max_depth=15, n_estimators=100, max_features=30), \"RegEx\", \"RandomForest\")"
   ]
  },
  {
   "cell_type": "code",
   "execution_count": 10,
   "metadata": {
    "collapsed": false
   },
   "outputs": [
    {
     "name": "stdout",
     "output_type": "stream",
     "text": [
      "RegEx VotingClassifier. Train set size 375. 77.749141% / 85.185185% / 67.182131% (0.751201)\n",
      "RegEx VotingClassifier. Train set size 750. 80.498282% / 86.298569% / 72.508591% (0.788049)\n",
      "RegEx VotingClassifier. Train set size 1500. 81.615120% / 89.316239% / 71.821306% (0.796190)\n",
      "RegEx VotingClassifier. Train set size 3000. 82.817869% / 88.663968% / 75.257732% (0.814126)\n",
      "RegEx VotingClassifier. Train set size 6000. 84.020619% / 88.976378% / 77.663230% (0.829358)\n"
     ]
    }
   ],
   "source": [
    "test_model(VotingClassifier(estimators=[\n",
    "            ('knn', KNeighborsClassifier(2)),\n",
    "            ('rbf', SVC(kernel=\"rbf\", probability=True)),\n",
    "            ('sgd', linear_model.SGDClassifier(n_iter=1000, loss=\"log\")),\n",
    "            ('rf', RandomForestClassifier(max_depth=15, n_estimators=100, max_features=30))],\n",
    "        voting='hard'),\n",
    "    \"RegEx\", \"VotingClassifier\")"
   ]
  },
  {
   "cell_type": "code",
   "execution_count": 11,
   "metadata": {
    "collapsed": false
   },
   "outputs": [
    {
     "name": "stdout",
     "output_type": "stream",
     "text": [
      "RegEx LinearSVC. Train set size 375. 78.436426% / 83.434343% / 70.962199% (0.766945)\n",
      "RegEx LinearSVC. Train set size 750. 80.841924% / 82.935780% / 77.663230% (0.802130)\n",
      "RegEx LinearSVC. Train set size 1500. 82.560137% / 86.372361% / 77.319588% (0.815956)\n",
      "RegEx LinearSVC. Train set size 3000. 86.340206% / 88.950276% / 82.989691% (0.858667)\n",
      "RegEx LinearSVC. Train set size 6000. 87.886598% / 88.752197% / 86.769759% (0.877498)\n"
     ]
    }
   ],
   "source": [
    "test_model(LinearSVC(), \"RegEx\", \"LinearSVC\")"
   ]
  },
  {
   "cell_type": "code",
   "execution_count": 12,
   "metadata": {
    "collapsed": false
   },
   "outputs": [
    {
     "name": "stderr",
     "output_type": "stream",
     "text": [
      "/usr/local/lib/python2.7/dist-packages/sklearn/neural_network/multilayer_perceptron.py:563: ConvergenceWarning: Stochastic Optimizer: Maximum iterations reached and the optimization hasn't converged yet.\n",
      "  % (), ConvergenceWarning)\n"
     ]
    },
    {
     "name": "stdout",
     "output_type": "stream",
     "text": [
      "RegEx Neural Network. Train set size 375. 82.044674% / 83.363148% / 80.068729% (0.816827)\n",
      "RegEx Neural Network. Train set size 750. 84.364261% / 85.714286% / 82.474227% (0.840630)\n",
      "RegEx Neural Network. Train set size 1500. 84.965636% / 85.890653% / 83.676976% (0.847694)\n",
      "RegEx Neural Network. Train set size 3000. 87.457045% / 87.847222% / 86.941581% (0.873921)\n",
      "RegEx Neural Network. Train set size 6000. 88.230241% / 87.904600% / 88.659794% (0.882806)\n"
     ]
    }
   ],
   "source": [
    "test_model(MLPClassifier(alpha=1e-4, learning_rate=\"adaptive\",\n",
    "             hidden_layer_sizes=(12,), random_state=1),\n",
    "    \"RegEx\", \"Neural Network\")"
   ]
  },
  {
   "cell_type": "code",
   "execution_count": 13,
   "metadata": {
    "collapsed": false
   },
   "outputs": [
    {
     "name": "stdout",
     "output_type": "stream",
     "text": [
      "Training size 375\n",
      "Training size 750\n",
      "Training size 1500\n",
      "Training size 3000\n",
      "Failed to parse JSON! maximum recursion depth exceeded while calling a Python object\n",
      "Training size 6000\n",
      "Failed to parse JSON! maximum recursion depth exceeded while calling a Python object\n"
     ]
    }
   ],
   "source": [
    "X_train, Y_train, X_test, Y_test = train_all(tokenize_js_ast, parse_scripts_ast)"
   ]
  },
  {
   "cell_type": "code",
   "execution_count": 14,
   "metadata": {
    "collapsed": false
   },
   "outputs": [
    {
     "name": "stdout",
     "output_type": "stream",
     "text": [
      "AST KNN. Train set size 375. 76.975945% / 88.292683% / 62.199313% (0.729839)\n",
      "AST KNN. Train set size 750. 77.147766% / 86.915888% / 63.917526% (0.736634)\n",
      "AST KNN. Train set size 1500. 80.498282% / 84.735812% / 74.398625% (0.792315)\n",
      "AST KNN. Train set size 3000. 81.786942% / 85.440613% / 76.632302% (0.807971)\n",
      "AST KNN. Train set size 6000. 84.879725% / 86.379928% / 82.817869% (0.845614)\n"
     ]
    }
   ],
   "source": [
    "test_model(KNeighborsClassifier(2), \"AST\", \"KNN\")"
   ]
  },
  {
   "cell_type": "code",
   "execution_count": 15,
   "metadata": {
    "collapsed": false
   },
   "outputs": [
    {
     "name": "stdout",
     "output_type": "stream",
     "text": [
      "AST Bernoulli. Train set size 375. 58.676976% / 54.926829% / 96.735395% (0.700685)\n",
      "AST Bernoulli. Train set size 750. 60.910653% / 56.343656% / 96.907216% (0.712571)\n",
      "AST Bernoulli. Train set size 1500. 61.254296% / 56.556557% / 97.079038% (0.714738)\n",
      "AST Bernoulli. Train set size 3000. 64.003436% / 58.393409% / 97.422680% (0.730200)\n",
      "AST Bernoulli. Train set size 6000. 64.604811% / 58.780992% / 97.766323% (0.734194)\n"
     ]
    }
   ],
   "source": [
    "test_model(BernoulliNB(), \"AST\", \"Bernoulli\")"
   ]
  },
  {
   "cell_type": "code",
   "execution_count": 16,
   "metadata": {
    "collapsed": false
   },
   "outputs": [
    {
     "name": "stdout",
     "output_type": "stream",
     "text": [
      "AST SGD. Train set size 375. 81.786942% / 83.273381% / 79.553265% (0.813708)\n",
      "AST SGD. Train set size 750. 83.161512% / 83.623693% / 82.474227% (0.830450)\n",
      "AST SGD. Train set size 1500. 84.879725% / 87.453875% / 81.443299% (0.843416)\n",
      "AST SGD. Train set size 3000. 86.855670% / 87.565674% / 85.910653% (0.867303)\n",
      "AST SGD. Train set size 6000. 87.800687% / 88.732394% / 86.597938% (0.876522)\n"
     ]
    }
   ],
   "source": [
    "test_model(linear_model.SGDClassifier(n_iter=1000), \"AST\", \"SGD\")"
   ]
  },
  {
   "cell_type": "code",
   "execution_count": 17,
   "metadata": {
    "collapsed": false
   },
   "outputs": [
    {
     "name": "stdout",
     "output_type": "stream",
     "text": [
      "AST RandomForest. Train set size 375. 73.883162% / 69.359331% / 85.567010% (0.766154)\n",
      "AST RandomForest. Train set size 750. 74.398625% / 68.346253% / 90.893471% (0.780236)\n",
      "AST RandomForest. Train set size 1500. 73.195876% / 67.131980% / 90.893471% (0.772263)\n",
      "AST RandomForest. Train set size 3000. 73.024055% / 66.262136% / 93.814433% (0.776671)\n",
      "AST RandomForest. Train set size 6000. 73.797251% / 67.035670% / 93.642612% (0.781362)\n"
     ]
    }
   ],
   "source": [
    "test_model(RandomForestClassifier(max_depth=15, n_estimators=100, max_features=30), \"AST\", \"RandomForest\")"
   ]
  },
  {
   "cell_type": "code",
   "execution_count": 18,
   "metadata": {
    "collapsed": false
   },
   "outputs": [
    {
     "name": "stdout",
     "output_type": "stream",
     "text": [
      "AST VotingClassifier. Train set size 375. 79.982818% / 89.213483% / 68.213058% (0.773126)\n",
      "AST VotingClassifier. Train set size 750. 79.982818% / 89.213483% / 68.213058% (0.773126)\n",
      "AST VotingClassifier. Train set size 1500. 81.357388% / 89.247312% / 71.305842% (0.792741)\n",
      "AST VotingClassifier. Train set size 3000. 82.388316% / 89.517820% / 73.367698% (0.806421)\n",
      "AST VotingClassifier. Train set size 6000. 85.567010% / 89.204545% / 80.927835% (0.848649)\n"
     ]
    }
   ],
   "source": [
    "test_model(VotingClassifier(estimators=[\n",
    "            ('knn', KNeighborsClassifier(2)),\n",
    "            ('rbf', SVC(kernel=\"rbf\", probability=True)),\n",
    "            ('sgd', linear_model.SGDClassifier(n_iter=1000, loss=\"log\")),\n",
    "            ('rf', RandomForestClassifier(max_depth=15, n_estimators=100, max_features=30))],\n",
    "        voting='hard'),\n",
    "    \"AST\", \"VotingClassifier\")"
   ]
  },
  {
   "cell_type": "code",
   "execution_count": 19,
   "metadata": {
    "collapsed": false
   },
   "outputs": [
    {
     "name": "stdout",
     "output_type": "stream",
     "text": [
      "AST LinearSVC. Train set size 375. 80.841924% / 82.935780% / 77.663230% (0.802130)\n",
      "AST LinearSVC. Train set size 750. 81.958763% / 83.453237% / 79.725086% (0.815466)\n",
      "AST LinearSVC. Train set size 1500. 84.020619% / 85.740072% / 81.615120% (0.836268)\n",
      "AST LinearSVC. Train set size 3000. 87.371134% / 87.958115% / 86.597938% (0.872727)\n",
      "AST LinearSVC. Train set size 6000. 88.745704% / 89.354276% / 87.972509% (0.886580)\n"
     ]
    }
   ],
   "source": [
    "test_model(LinearSVC(), \"AST\", \"LinearSVC\")"
   ]
  },
  {
   "cell_type": "code",
   "execution_count": 20,
   "metadata": {
    "collapsed": false
   },
   "outputs": [
    {
     "name": "stdout",
     "output_type": "stream",
     "text": [
      "AST Neural Network. Train set size 375. 83.676976% / 87.121212% / 79.037801% (0.828829)\n",
      "AST Neural Network. Train set size 750. 84.707904% / 86.071429% / 82.817869% (0.844133)\n",
      "AST Neural Network. Train set size 1500. 86.168385% / 85.982906% / 86.426117% (0.862039)\n",
      "AST Neural Network. Train set size 3000. 87.285223% / 86.904762% / 87.800687% (0.873504)\n",
      "AST Neural Network. Train set size 6000. 89.261168% / 89.739130% / 88.659794% (0.891962)\n"
     ]
    }
   ],
   "source": [
    "test_model(MLPClassifier(alpha=1e-4, learning_rate=\"adaptive\",\n",
    "             hidden_layer_sizes=(12,), random_state=1),\n",
    "    \"AST\", \"Neural Network\")"
   ]
  },
  {
   "cell_type": "code",
   "execution_count": 23,
   "metadata": {
    "collapsed": false
   },
   "outputs": [],
   "source": [
    "write_results()"
   ]
  },
  {
   "cell_type": "code",
   "execution_count": 24,
   "metadata": {
    "collapsed": false
   },
   "outputs": [],
   "source": [
    "table_df = pd.DataFrame(output_table)\n",
    "%Rpush table_df"
   ]
  },
  {
   "cell_type": "code",
   "execution_count": 38,
   "metadata": {
    "collapsed": false
   },
   "outputs": [
    {
     "data": {
      "image/png": "[encoded data removed]"
     },
     "metadata": {},
     "output_type": "display_data"
    }
   ],
   "source": [
    "%%R -w 40 -h 25 -u cm\n",
    "\n",
    "library(ggplot2)\n",
    "ggplot(aes(x=X2, color=X1, y=X3), data=table_df) +\n",
    "    geom_line() +\n",
    "    xlab(\"Training set size\") +\n",
    "    ylim(c(0.5, 1)) +\n",
    "    ylab(\"Accuracy\") +\n",
    "    facet_grid(~ X0)"
   ]
  },
  {
   "cell_type": "code",
   "execution_count": null,
   "metadata": {
    "collapsed": true
   },
   "outputs": [],
   "source": []
  }
 ],
 "metadata": {
  "kernelspec": {
   "display_name": "Python 2",
   "language": "python",
   "name": "python2"
  },
  "language_info": {
   "codemirror_mode": {
    "name": "ipython",
    "version": 2
   },
   "file_extension": ".py",
   "mimetype": "text/x-python",
   "name": "python",
   "nbconvert_exporter": "python",
   "pygments_lexer": "ipython2",
   "version": "2.7.12"
  }
 },
 "nbformat": 4,
 "nbformat_minor": 0
}
