{
 "cells": [
  {
   "cell_type": "code",
   "execution_count": 2,
   "metadata": {
    "collapsed": true
   },
   "outputs": [],
   "source": [
    "import json\n",
    "import random\n",
    "import re\n",
    "import numpy as np\n",
    "\n",
    "from sklearn.feature_extraction.text import CountVectorizer\n",
    "from sklearn.feature_extraction.text import HashingVectorizer\n",
    "from sklearn.feature_extraction.text import TfidfVectorizer\n",
    "\n",
    "from sklearn.svm import SVC\n",
    "from sklearn.naive_bayes import BernoulliNB\n",
    "from sklearn import linear_model"
   ]
  },
  {
   "cell_type": "code",
   "execution_count": 3,
   "metadata": {
    "collapsed": false
   },
   "outputs": [
    {
     "name": "stdout",
     "output_type": "stream",
     "text": [
      "328 positive and 328 negative examples.\n"
     ]
    }
   ],
   "source": [
    "with open(\"/scripts/table_flag.json\") as f:\n",
    "    table = json.load(f)\n",
    "    \n",
    "positive_examples = [i for i, e in enumerate(table) if e[\"flag-any\"] == 1]\n",
    "negative_examples = [i for i, e in enumerate(table) if e[\"flag-any\"] == 0]\n",
    "random.shuffle(positive_examples)\n",
    "random.shuffle(negative_examples)\n",
    "negative_examples = negative_examples[:len(positive_examples)]\n",
    "print \"%d positive and %d negative examples.\" % (len(positive_examples), len(negative_examples))\n",
    "\n",
    "train_table = [table[i] for i in positive_examples[:200]] + [table[i] for i in negative_examples[:200]]\n",
    "test_table = [table[i] for i in positive_examples[200:]] + [table[i] for i in negative_examples[200:]]"
   ]
  },
  {
   "cell_type": "code",
   "execution_count": 4,
   "metadata": {
    "collapsed": false
   },
   "outputs": [],
   "source": [
    "def tokenize_js(script):\n",
    "    script = re.sub(r'(\\/\\*[^*]+\\*\\/)', \"\", script)\n",
    "    script = re.sub(r'\\/\\/.+', \"\", script)\n",
    "    return re.findall(r'(\\\"[^\"]+\\\"|\\'[^\\']+\\'|[\\w\\\\\\/\\-_\\\"\\']+|{|}|,|[\\+\\*]|\\(|\\)|\\.|/\\*.+\\*\\/)', script)\n",
    "\n",
    "def parse_scripts(tbl):\n",
    "    for item in tbl:\n",
    "        #print \"Reading %s.js\" % item[\"sha\"]\n",
    "        with open(\"/scripts/%s.js\" % item[\"sha\"]) as f:\n",
    "            yield f.read().decode(errors='replace')\n",
    "            "
   ]
  },
  {
   "cell_type": "code",
   "execution_count": 5,
   "metadata": {
    "collapsed": false
   },
   "outputs": [],
   "source": [
    "vectorizer = TfidfVectorizer(tokenizer=tokenize_js)\n",
    "X_train = vectorizer.fit_transform(parse_scripts(train_table))\n",
    "Y_train = np.array([item[\"flag-any\"] for item in train_table])\n",
    "                    \n",
    "X_test = vectorizer.transform(parse_scripts(test_table))\n",
    "Y_test = np.array([item[\"flag-any\"] for item in test_table])"
   ]
  },
  {
   "cell_type": "code",
   "execution_count": 6,
   "metadata": {
    "collapsed": false
   },
   "outputs": [
    {
     "name": "stdout",
     "output_type": "stream",
     "text": [
      "  (0, 10242)\t0.000373772501762\n",
      "  (0, 14566)\t0.000373772501762\n",
      "  (0, 10244)\t0.000373772501762\n",
      "  (0, 18244)\t0.000373772501762\n",
      "  (0, 48812)\t0.000373772501762\n",
      "  (0, 10241)\t0.000373772501762\n",
      "  (0, 16714)\t0.000373772501762\n",
      "  (0, 14132)\t0.000373772501762\n",
      "  (0, 10243)\t0.000373772501762\n",
      "  (0, 49086)\t0.000349719783828\n",
      "  (0, 16928)\t0.000373772501762\n",
      "  (0, 14494)\t0.000373772501762\n",
      "  (0, 13450)\t0.000747545003525\n",
      "  (0, 29924)\t0.000973721120399\n",
      "  (0, 17781)\t0.000373772501762\n",
      "  (0, 17838)\t0.000349719783828\n",
      "  (0, 17774)\t0.000373772501762\n",
      "  (0, 17234)\t0.000373772501762\n",
      "  (0, 28571)\t0.000332654108866\n",
      "  (0, 30174)\t0.000373772501762\n",
      "  (0, 30173)\t0.000373772501762\n",
      "  (0, 16509)\t0.000349719783828\n",
      "  (0, 28174)\t0.000319416942976\n",
      "  (0, 41758)\t0.0002434302801\n",
      "  (0, 37762)\t0.0002434302801\n",
      "  :\t:\n",
      "  (399, 37158)\t0.0320761356944\n",
      "  (399, 43053)\t0.02759053557\n",
      "  (399, 53825)\t0.113768529932\n",
      "  (399, 38149)\t0.0665676610275\n",
      "  (399, 35640)\t0.0453144816464\n",
      "  (399, 42744)\t0.157270602207\n",
      "  (399, 38964)\t0.0929346427543\n",
      "  (399, 49270)\t0.0189725729604\n",
      "  (399, 39537)\t0.0174213633699\n",
      "  (399, 27824)\t0.0893600073137\n",
      "  (399, 28127)\t0.0356289533808\n",
      "  (399, 53508)\t0.0694660879378\n",
      "  (399, 44834)\t0.0175878326884\n",
      "  (399, 50251)\t0.015854406282\n",
      "  (399, 27826)\t0.114688803469\n",
      "  (399, 27825)\t0.0448993728555\n",
      "  (399, 55150)\t0.0523626273775\n",
      "  (399, 41017)\t0.0764990932277\n",
      "  (399, 56175)\t0.140305899173\n",
      "  (399, 28126)\t0.374434446756\n",
      "  (399, 56174)\t0.137511068405\n",
      "  (399, 27823)\t0.412196827624\n",
      "  (399, 55688)\t0.0459349317548\n",
      "  (399, 27822)\t0.409093477043\n",
      "  (399, 43204)\t0.0969448639402\n",
      "[1 1 1 1 1 1 1 1 1 1 1 1 1 1 1 1 1 1 1 1 1 1 1 1 1 1 1 1 1 1 1 1 1 1 1 1 1\n",
      " 1 1 1 1 1 1 1 1 1 1 1 1 1 1 1 1 1 1 1 1 1 1 1 1 1 1 1 1 1 1 1 1 1 1 1 1 1\n",
      " 1 1 1 1 1 1 1 1 1 1 1 1 1 1 1 1 1 1 1 1 1 1 1 1 1 1 1 1 1 1 1 1 1 1 1 1 1\n",
      " 1 1 1 1 1 1 1 1 1 1 1 1 1 1 1 1 1 1 1 1 1 1 1 1 1 1 1 1 1 1 1 1 1 1 1 1 1\n",
      " 1 1 1 1 1 1 1 1 1 1 1 1 1 1 1 1 1 1 1 1 1 1 1 1 1 1 1 1 1 1 1 1 1 1 1 1 1\n",
      " 1 1 1 1 1 1 1 1 1 1 1 1 1 1 1 0 0 0 0 0 0 0 0 0 0 0 0 0 0 0 0 0 0 0 0 0 0\n",
      " 0 0 0 0 0 0 0 0 0 0 0 0 0 0 0 0 0 0 0 0 0 0 0 0 0 0 0 0 0 0 0 0 0 0 0 0 0\n",
      " 0 0 0 0 0 0 0 0 0 0 0 0 0 0 0 0 0 0 0 0 0 0 0 0 0 0 0 0 0 0 0 0 0 0 0 0 0\n",
      " 0 0 0 0 0 0 0 0 0 0 0 0 0 0 0 0 0 0 0 0 0 0 0 0 0 0 0 0 0 0 0 0 0 0 0 0 0\n",
      " 0 0 0 0 0 0 0 0 0 0 0 0 0 0 0 0 0 0 0 0 0 0 0 0 0 0 0 0 0 0 0 0 0 0 0 0 0\n",
      " 0 0 0 0 0 0 0 0 0 0 0 0 0 0 0 0 0 0 0 0 0 0 0 0 0 0 0 0 0 0]\n",
      "200/400 positive examples\n"
     ]
    }
   ],
   "source": [
    "print X_train\n",
    "print Y_train\n",
    "print \"%d/%d positive examples\" % (sum(Y_train), len(Y_train))"
   ]
  },
  {
   "cell_type": "code",
   "execution_count": 7,
   "metadata": {
    "collapsed": false
   },
   "outputs": [
    {
     "name": "stdout",
     "output_type": "stream",
     "text": [
      "Baseline: 128/256 = 50.000000%\n",
      "Accuracy: 186/256 = 72.656250%\n"
     ]
    }
   ],
   "source": [
    "model = BernoulliNB()\n",
    "model.fit(X_train, Y_train)\n",
    "test_pred = model.predict(X_test)\n",
    "\n",
    "print \"Baseline: %d/%d = %f%%\" % (sum(Y_test == 0), len(Y_test), ((float(sum(Y_test == 0)) / len(Y_test)) * 100))\n",
    "print \"Accuracy: %d/%d = %f%%\" % (sum(Y_test == test_pred), len(Y_test), ((float(sum(Y_test == test_pred)) / len(Y_test)) * 100))"
   ]
  },
  {
   "cell_type": "code",
   "execution_count": 8,
   "metadata": {
    "collapsed": false
   },
   "outputs": [
    {
     "name": "stdout",
     "output_type": "stream",
     "text": [
      "Baseline: 128/256 = 50.000000%\n",
      "Accuracy: 163/256 = 63.671875%\n"
     ]
    }
   ],
   "source": [
    "model = SVC()\n",
    "model.fit(X_train, Y_train)\n",
    "test_pred = model.predict(X_test)\n",
    "\n",
    "print \"Baseline: %d/%d = %f%%\" % (sum(Y_test == 0), len(Y_test), ((float(sum(Y_test == 0)) / len(Y_test)) * 100))\n",
    "print \"Accuracy: %d/%d = %f%%\" % (sum(Y_test == test_pred), len(Y_test), ((float(sum(Y_test == test_pred)) / len(Y_test)) * 100))"
   ]
  },
  {
   "cell_type": "code",
   "execution_count": 9,
   "metadata": {
    "collapsed": false
   },
   "outputs": [
    {
     "name": "stdout",
     "output_type": "stream",
     "text": [
      "Baseline: 128/256 = 50.000000%\n",
      "Accuracy: 190/256 = 74.218750%\n"
     ]
    }
   ],
   "source": [
    "model = linear_model.SGDClassifier(class_weight=\"auto\")\n",
    "model.fit(X_train, Y_train)\n",
    "test_pred = model.predict(X_test)\n",
    "\n",
    "print \"Baseline: %d/%d = %f%%\" % (sum(Y_test == 0), len(Y_test), ((float(sum(Y_test == 0)) / len(Y_test)) * 100))\n",
    "print \"Accuracy: %d/%d = %f%%\" % (sum(Y_test == test_pred), len(Y_test), ((float(sum(Y_test == test_pred)) / len(Y_test)) * 100))"
   ]
  },
  {
   "cell_type": "code",
   "execution_count": null,
   "metadata": {
    "collapsed": true
   },
   "outputs": [],
   "source": []
  }
 ],
 "metadata": {
  "kernelspec": {
   "display_name": "Python 2",
   "language": "python",
   "name": "python2"
  },
  "language_info": {
   "codemirror_mode": {
    "name": "ipython",
    "version": 2
   },
   "file_extension": ".py",
   "mimetype": "text/x-python",
   "name": "python",
   "nbconvert_exporter": "python",
   "pygments_lexer": "ipython2",
   "version": "2.7.6"
  }
 },
 "nbformat": 4,
 "nbformat_minor": 0
}
