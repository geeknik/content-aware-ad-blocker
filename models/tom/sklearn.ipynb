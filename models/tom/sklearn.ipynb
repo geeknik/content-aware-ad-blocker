{
 "cells": [
  {
   "cell_type": "code",
   "execution_count": 1,
   "metadata": {
    "collapsed": true
   },
   "outputs": [],
   "source": [
    "import json\n",
    "import random\n",
    "import re\n",
    "import numpy as np\n",
    "\n",
    "from sklearn.feature_extraction.text import CountVectorizer\n",
    "from sklearn.feature_extraction.text import HashingVectorizer\n",
    "from sklearn.feature_extraction.text import TfidfVectorizer\n",
    "\n",
    "from sklearn.svm import SVC\n",
    "from sklearn.naive_bayes import BernoulliNB\n",
    "from sklearn import linear_model\n",
    "\n",
    "from scipy.sparse import coo_matrix, vstack"
   ]
  },
  {
   "cell_type": "code",
   "execution_count": 12,
   "metadata": {
    "collapsed": true
   },
   "outputs": [],
   "source": [
    "def tokenize_js(script):\n",
    "    script = re.sub(r'(\\/\\*[^*]+\\*\\/)', \"\", script)\n",
    "    script = re.sub(r'\\/\\/.+', \"\", script)\n",
    "    return re.findall(r'(\\\"[^\"]+\\\"|\\'[^\\']+\\'|[\\w\\\\\\/\\-_\\\"\\']+|{|}|,|[\\+\\*]|\\(|\\)|\\.|/\\*.+\\*\\/)', script)\n",
    "\n",
    "def parse_scripts(tbl):\n",
    "    for item in tbl:\n",
    "        with open(\"/scripts/%s.js\" % item[\"sha\"]) as f:\n",
    "            yield f.read().decode(errors='replace')\n",
    "\n",
    "def test_model(model, model_name):\n",
    "    for train_size in TRAIN_SIZES:\n",
    "        model.fit(X_train[train_size], Y_train[train_size])\n",
    "        test_pred = model.predict(X_test[train_size])\n",
    "        test_y = Y_test[train_size]\n",
    "\n",
    "        print \"%s. Train set size %d. Accuracy: %d/%d = %f%%\" % (\n",
    "            model_name,\n",
    "            train_size,\n",
    "            sum(test_y == test_pred),\n",
    "            len(test_y),\n",
    "            ((float(sum(test_y == test_pred)) / len(test_y)) * 100))"
   ]
  },
  {
   "cell_type": "code",
   "execution_count": 17,
   "metadata": {
    "collapsed": false
   },
   "outputs": [
    {
     "name": "stdout",
     "output_type": "stream",
     "text": [
      "5666 positive and 5666 negative examples.\n"
     ]
    }
   ],
   "source": [
    "with open(\"/scripts/table_flag.json\") as f:\n",
    "    table = json.load(f)\n",
    "    \n",
    "positive_examples = [i for i, e in enumerate(table) if e[\"flag-any\"] == 1]\n",
    "negative_examples = [i for i, e in enumerate(table) if e[\"flag-any\"] == 0]\n",
    "random.shuffle(positive_examples)\n",
    "random.shuffle(negative_examples)\n",
    "negative_examples = negative_examples[:len(positive_examples)]\n",
    "print \"%d positive and %d negative examples.\" % (len(positive_examples), len(negative_examples))\n",
    "\n",
    "TRAIN_SIZES = [100, 400, 800, 1600, 3200, 4666]\n",
    "TEST_SIZE = 1000\n",
    "\n",
    "train_tables = {}\n",
    "for train_size in TRAIN_SIZES:\n",
    "    train_tables[train_size] = (\n",
    "        [table[i] for i in positive_examples[:train_size]] + \n",
    "        [table[i] for i in negative_examples[:train_size]])\n",
    "\n",
    "test_table = (\n",
    "    [table[i] for i in positive_examples[-TEST_SIZE:]] + \n",
    "    [table[i] for i in negative_examples[-TEST_SIZE:]])"
   ]
  },
  {
   "cell_type": "code",
   "execution_count": 18,
   "metadata": {
    "collapsed": false
   },
   "outputs": [],
   "source": [
    "X_train = {}\n",
    "Y_train = {}\n",
    "X_test = {}\n",
    "Y_test = {}\n",
    "\n",
    "for train_size in TRAIN_SIZES:\n",
    "    vectorizer = TfidfVectorizer(tokenizer=tokenize_js)\n",
    "    X_train[train_size] = vectorizer.fit_transform(parse_scripts(train_tables[train_size]))\n",
    "    Y_train[train_size] = np.array([item[\"flag-any\"] for item in train_tables[train_size]])\n",
    "    X_test[train_size] = vectorizer.transform(parse_scripts(test_table))\n",
    "    Y_test[train_size] = np.array([item[\"flag-any\"] for item in test_table])"
   ]
  },
  {
   "cell_type": "code",
   "execution_count": 19,
   "metadata": {
    "collapsed": false
   },
   "outputs": [
    {
     "name": "stdout",
     "output_type": "stream",
     "text": [
      "Bernoulli. Train set size 100. Accuracy: 1191/2000 = 59.550000%\n",
      "Bernoulli. Train set size 400. Accuracy: 1368/2000 = 68.400000%\n",
      "Bernoulli. Train set size 800. Accuracy: 1393/2000 = 69.650000%\n",
      "Bernoulli. Train set size 1600. Accuracy: 1490/2000 = 74.500000%\n",
      "Bernoulli. Train set size 3200. Accuracy: 1330/2000 = 66.500000%\n",
      "Bernoulli. Train set size 4666. Accuracy: 1368/2000 = 68.400000%\n"
     ]
    }
   ],
   "source": [
    "test_model(BernoulliNB(), \"Bernoulli\")"
   ]
  },
  {
   "cell_type": "code",
   "execution_count": 20,
   "metadata": {
    "collapsed": false
   },
   "outputs": [
    {
     "name": "stdout",
     "output_type": "stream",
     "text": [
      "SVC. Train set size 100. Accuracy: 1240/2000 = 62.000000%\n",
      "SVC. Train set size 400. Accuracy: 1200/2000 = 60.000000%\n",
      "SVC. Train set size 800. Accuracy: 1190/2000 = 59.500000%\n",
      "SVC. Train set size 1600. Accuracy: 1187/2000 = 59.350000%\n",
      "SVC. Train set size 3200. Accuracy: 1189/2000 = 59.450000%\n",
      "SVC. Train set size 4666. Accuracy: 1221/2000 = 61.050000%\n"
     ]
    }
   ],
   "source": [
    "test_model(SVC(), \"SVC\")"
   ]
  },
  {
   "cell_type": "code",
   "execution_count": 21,
   "metadata": {
    "collapsed": false
   },
   "outputs": [
    {
     "name": "stdout",
     "output_type": "stream",
     "text": [
      "SGD. Train set size 100. Accuracy: 1433/2000 = 71.650000%\n",
      "SGD. Train set size 400. Accuracy: 1535/2000 = 76.750000%\n",
      "SGD. Train set size 800. Accuracy: 1622/2000 = 81.100000%\n",
      "SGD. Train set size 1600. Accuracy: 1699/2000 = 84.950000%\n",
      "SGD. Train set size 3200. Accuracy: 1680/2000 = 84.000000%\n",
      "SGD. Train set size 4666. Accuracy: 1692/2000 = 84.600000%\n"
     ]
    }
   ],
   "source": [
    "test_model(linear_model.SGDClassifier(n_iter=1000), \"SGD\")"
   ]
  },
  {
   "cell_type": "code",
   "execution_count": null,
   "metadata": {
    "collapsed": true
   },
   "outputs": [],
   "source": []
  }
 ],
 "metadata": {
  "kernelspec": {
   "display_name": "Python 2",
   "language": "python",
   "name": "python2"
  },
  "language_info": {
   "codemirror_mode": {
    "name": "ipython",
    "version": 2
   },
   "file_extension": ".py",
   "mimetype": "text/x-python",
   "name": "python",
   "nbconvert_exporter": "python",
   "pygments_lexer": "ipython2",
   "version": "2.7.6"
  }
 },
 "nbformat": 4,
 "nbformat_minor": 0
}
