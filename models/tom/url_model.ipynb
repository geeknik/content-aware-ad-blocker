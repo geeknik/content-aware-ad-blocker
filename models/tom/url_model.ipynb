{
 "cells": [
  {
   "cell_type": "code",
   "execution_count": 1,
   "metadata": {
    "collapsed": true
   },
   "outputs": [],
   "source": [
    "REPO_ROOT = \"/usr/src/app\"\n",
    "\n",
    "import json\n",
    "import pickle\n",
    "import re\n",
    "\n",
    "import numpy as np\n",
    "\n",
    "from sklearn.feature_extraction.text import HashingVectorizer\n",
    "from sklearn.feature_extraction.text import TfidfTransformer\n",
    "from sklearn.pipeline import make_pipeline\n",
    "\n",
    "import util"
   ]
  },
  {
   "cell_type": "code",
   "execution_count": 2,
   "metadata": {
    "collapsed": false
   },
   "outputs": [
    {
     "name": "stdout",
     "output_type": "stream",
     "text": [
      "Training sizes: [300, 600, 1200, 2400, 4800, 9600, 19200]\n",
      "Test size: 3588\n"
     ]
    }
   ],
   "source": [
    "with open(\"%s/scripts/table_balanced.json\" % REPO_ROOT) as f:\n",
    "    data_table = json.load(f)\n",
    "    \n",
    "with open(\"%s/model-data/metadata.pickle\" % (REPO_ROOT,), \"r\") as f:\n",
    "    size_data = pickle.load(f)\n",
    "    \n",
    "TRAIN_SIZES = size_data[\"train_sizes\"]\n",
    "TEST_SIZE = size_data[\"test_size\"]\n",
    "\n",
    "print \"Training sizes: %s\" % TRAIN_SIZES\n",
    "print \"Test size: %d\" % TEST_SIZE"
   ]
  },
  {
   "cell_type": "code",
   "execution_count": 3,
   "metadata": {
    "collapsed": false
   },
   "outputs": [
    {
     "name": "stdout",
     "output_type": "stream",
     "text": [
      "{u'count': 1, u'flag-fanboy-annoyance': 0, u'url': u'http://pos.baidu.com/rcom?di=u2494629&dri=1&dis=0&dai=2&ps=401x930&coa=at%3D3%26rsi0%3D270%26rsi1%3D500%26pat%3D6%26tn%3DbaiduCustNativeAD%26rss1%3D%2523FFFFFF%26conBW%3D1%26adp%3D1%26ptt%3D0%26titFF%3D%2525E5%2525BE%2525AE%2525E8%2525BD%2525AF%2525E9%25259B%252585%2525E9%2525BB%252591%26titFS%3D14%26rss2%3D%2523666666%26titSU%3D0%26ptbg%3D90%26piw%3D0%26pih%3D0%26ptp%3D0&dcb=BAIDU_SSP_define&dtm=SSP_JSONP&dvi=0.0&dci=-1&dpt=none&tsr=0&tpr=1475952573812&ti=2016%E5%B9%B4%E5%8A%A0%E7%9B%9F%E5%A5%BD%E9%A1%B9%E7%9B%AE%E5%8A%A0%E7%9B%9F%E9%A1%B9%E7%9B%AE%E6%8E%92%E8%A1%8C%E6%A6%9C_%E8%A1%8C%E4%B8%9A10%E5%A4%A7%E5%93%81%E7%89%8C%EF%BC%8D%E9%A1%B9%E7%9B%AE%E7%BD%91&ari=2&dbv=0&drs=1&pcs=1024x768&pss=1200x3407&cfv=0&cpl=0&chi=1&cce=true&cec=UTF-8&tlm=1475952573&rw=768&ltu=http%3A%2F%2Fwww.xiangmu.com%2Fproject%2F&ltr=http%3A%2F%2Fwww.5588.tv%2Ftop%2F&ecd=1&psr=1024x768&par=1024x768&pis=-1x-1&ccd=24&cja=false&cmi=0&col=C&cdo=-1&tcn=1475952574&sz=270x500', u'flag-any': 1, u'sha': u'b774c02532e46f5b5054ef61bdf964ab9f057a83', u'flag-easylist': 0, u'inline': False, u'flag-fanboy-social': 0, u'flag-easyprivacy': 1}\n"
     ]
    }
   ],
   "source": [
    "print data_table[0]"
   ]
  },
  {
   "cell_type": "code",
   "execution_count": null,
   "metadata": {
    "collapsed": true
   },
   "outputs": [],
   "source": []
  }
 ],
 "metadata": {
  "kernelspec": {
   "display_name": "Python 2",
   "language": "python",
   "name": "python2"
  },
  "language_info": {
   "codemirror_mode": {
    "name": "ipython",
    "version": 2
   },
   "file_extension": ".py",
   "mimetype": "text/x-python",
   "name": "python",
   "nbconvert_exporter": "python",
   "pygments_lexer": "ipython2",
   "version": "2.7.6"
  }
 },
 "nbformat": 4,
 "nbformat_minor": 1
}
