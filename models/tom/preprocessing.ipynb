{
 "cells": [
  {
   "cell_type": "code",
   "execution_count": 1,
   "metadata": {
    "collapsed": true
   },
   "outputs": [],
   "source": [
    "REPO_ROOT = \"/usr/src/app\"\n",
    "\n",
    "import json\n",
    "import pickle\n",
    "import re\n",
    "\n",
    "import numpy as np\n",
    "\n",
    "from sklearn.feature_extraction.text import TfidfVectorizer"
   ]
  },
  {
   "cell_type": "code",
   "execution_count": 2,
   "metadata": {
    "collapsed": false
   },
   "outputs": [
    {
     "name": "stdout",
     "output_type": "stream",
     "text": [
      "Training sizes: [300, 600, 1200, 2400, 4800, 9600, 19200]\n",
      "Test size: 3588\n"
     ]
    }
   ],
   "source": [
    "with open(\"%s/scripts/table_balanced.json\" % REPO_ROOT) as f:\n",
    "    data_table = json.load(f)\n",
    "    \n",
    "TOTAL_SIZE = len(data_table)\n",
    "TRAIN_SIZES = []\n",
    "size = 300\n",
    "while size < TOTAL_SIZE - 1000:\n",
    "    TRAIN_SIZES.append(size)\n",
    "    size *= 2\n",
    "    \n",
    "TEST_SIZE = TOTAL_SIZE - TRAIN_SIZES[-1]\n",
    "\n",
    "data = {\n",
    "    \"train_sizes\": TRAIN_SIZES,\n",
    "    \"test_size\": TEST_SIZE\n",
    "}\n",
    "with open(\"%s/model-data/metadata.pickle\" % (REPO_ROOT,), \"w\") as f:\n",
    "    pickle.dump(data, f)\n",
    "\n",
    "print \"Training sizes: %s\" % TRAIN_SIZES\n",
    "print \"Test size: %d\" % TEST_SIZE"
   ]
  },
  {
   "cell_type": "code",
   "execution_count": 21,
   "metadata": {
    "collapsed": true
   },
   "outputs": [],
   "source": [
    "def vectorize_table(model_type, tokenizer, parser, table, train_size, test_size):\n",
    "    vectorizer = TfidfVectorizer(tokenizer=tokenizer)\n",
    "    \n",
    "    data = {\n",
    "        \"X_train\": vectorizer.fit_transform(parser(table[:train_size])),\n",
    "        \"Y_train\": np.array([item[\"flag-any\"] for item in table[:train_size]]),\n",
    "        \"X_test\": vectorizer.transform(parser(table[-test_size:])),\n",
    "        \"Y_test\": np.array([item[\"flag-any\"] for item in table[-test_size:]]),\n",
    "    }\n",
    "    \n",
    "    with open(\"%s/model-data/dataset_%s_%d.pickle\" % (REPO_ROOT, model_type, train_size), \"w\") as f:\n",
    "        pickle.dump(data, f)"
   ]
  },
  {
   "cell_type": "code",
   "execution_count": 22,
   "metadata": {
    "collapsed": false
   },
   "outputs": [
    {
     "name": "stdout",
     "output_type": "stream",
     "text": [
      "RegEx Training size 300\n",
      "RegEx Training size 600\n",
      "RegEx Training size 1200\n",
      "RegEx Training size 2400\n",
      "RegEx Training size 4800\n",
      "RegEx Training size 9600\n",
      "RegEx Training size 19200\n"
     ]
    }
   ],
   "source": [
    "def tokenize_js(script):\n",
    "    script = re.sub(r'(\\/\\*[^*]+\\*\\/)', \"\", script)\n",
    "    script = re.sub(r'\\/\\/.+', \"\", script)\n",
    "    tokens = re.findall(r'(\\\"[^\"]+\\\"|\\'[^\\']+\\'|[\\w\\\\\\/\\-_\\\"\\']+|{|}|,|[\\+\\*]|\\(|\\)|\\.|/\\*.+\\*\\/)', script)\n",
    "    return [t.lower() for t in tokens]\n",
    "\n",
    "def parse_js(tbl):\n",
    "    for item in tbl:\n",
    "        with open(\"%s/scripts/%s.js\" % (REPO_ROOT, item[\"sha\"])) as f:\n",
    "            yield f.read().decode(errors='replace')\n",
    "            \n",
    "for train_size in TRAIN_SIZES:\n",
    "    print \"RegEx Training size %d\" % train_size\n",
    "    vectorize_table(\"RegEx\", tokenize_js, parse_js, data_table, train_size, TEST_SIZE)        "
   ]
  },
  {
   "cell_type": "code",
   "execution_count": 24,
   "metadata": {
    "collapsed": false
   },
   "outputs": [
    {
     "name": "stdout",
     "output_type": "stream",
     "text": [
      "AST Training size 300\n",
      "Failed to parse JSON! maximum recursion depth exceeded while calling a Python object\n",
      "AST Training size 600\n",
      "Failed to parse JSON! maximum recursion depth exceeded while calling a Python object\n",
      "Failed to parse JSON! maximum recursion depth exceeded while calling a Python object\n",
      "AST Training size 1200\n",
      "Failed to parse JSON! maximum recursion depth exceeded while calling a Python object\n",
      "Failed to parse JSON! maximum recursion depth exceeded while calling a Python object\n",
      "AST Training size 2400\n",
      "Failed to parse JSON! maximum recursion depth exceeded while calling a Python object\n",
      "Failed to parse JSON! maximum recursion depth exceeded while calling a Python object\n",
      "AST Training size 4800\n",
      "Failed to parse JSON! maximum recursion depth exceeded while calling a Python object\n",
      "Failed to parse JSON! maximum recursion depth exceeded while calling a Python object\n",
      "AST Training size 9600\n",
      "Failed to parse JSON! maximum recursion depth exceeded while calling a Python object\n",
      "Failed to parse JSON! maximum recursion depth exceeded while calling a Python object\n",
      "AST Training size 19200\n",
      "Failed to parse JSON! maximum recursion depth exceeded while calling a Python object\n",
      "Failed to parse JSON! maximum recursion depth exceeded while calling a Python object\n",
      "Failed to parse JSON! maximum recursion depth exceeded while calling a Python object\n"
     ]
    }
   ],
   "source": [
    "def _tokenize_helper(node):\n",
    "    if isinstance(node, basestring):\n",
    "        return [node]\n",
    "    if isinstance(node, bool):\n",
    "        return [\"True\" if node else \"False\"]\n",
    "    if isinstance(node, list):\n",
    "        return [x for v in node for x in _tokenize_helper(v)]\n",
    "    if node is None:\n",
    "        return []\n",
    "    \n",
    "    lst = [\".\".join([\n",
    "        \"%s:%s\" % (key, val)\n",
    "        for key, val in node.iteritems()\n",
    "        if not isinstance(val, dict) and not isinstance(val, list)\n",
    "    ])]\n",
    "    \n",
    "    for key, val in node.iteritems():\n",
    "        if isinstance(val, dict) or isinstance(val, list):\n",
    "            lst += _tokenize_helper(val)\n",
    "    \n",
    "    return lst\n",
    "\n",
    "def tokenize_ast(ast):\n",
    "    try:\n",
    "        ast_json = json.loads(ast)\n",
    "    except Exception as e:\n",
    "        print \"Failed to parse JSON! %s\" % str(e)\n",
    "        return []\n",
    "    return [t.lower() for t in _tokenize_helper(ast_json)]\n",
    "    \n",
    "def parse_ast(tbl):\n",
    "    for item in tbl:\n",
    "        try:\n",
    "            with open(\"%s/scripts-ast/%s.js.ast\" % (REPO_ROOT, item[\"sha\"])) as f:\n",
    "                yield f.read()\n",
    "        except IOError:\n",
    "            yield \"[]\"\n",
    "            \n",
    "for train_size in TRAIN_SIZES:\n",
    "    print \"AST Training size %d\" % train_size\n",
    "    vectorize_table(\"AST\", tokenize_ast, parse_ast, data_table, train_size, TEST_SIZE)                "
   ]
  },
  {
   "cell_type": "code",
   "execution_count": null,
   "metadata": {
    "collapsed": true
   },
   "outputs": [],
   "source": []
  }
 ],
 "metadata": {
  "kernelspec": {
   "display_name": "Python 2",
   "language": "python",
   "name": "python2"
  },
  "language_info": {
   "codemirror_mode": {
    "name": "ipython",
    "version": 2
   },
   "file_extension": ".py",
   "mimetype": "text/x-python",
   "name": "python",
   "nbconvert_exporter": "python",
   "pygments_lexer": "ipython2",
   "version": "2.7.12"
  }
 },
 "nbformat": 4,
 "nbformat_minor": 1
}
