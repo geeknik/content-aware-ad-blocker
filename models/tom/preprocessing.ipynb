{
 "cells": [
  {
   "cell_type": "code",
   "execution_count": 1,
   "metadata": {
    "collapsed": true
   },
   "outputs": [],
   "source": [
    "REPO_ROOT = \"/usr/src/app\"\n",
    "\n",
    "import json\n",
    "import pickle\n",
    "import re\n",
    "\n",
    "import numpy as np\n",
    "\n",
    "from sklearn.feature_extraction.text import TfidfVectorizer\n",
    "\n",
    "import util"
   ]
  },
  {
   "cell_type": "code",
   "execution_count": 2,
   "metadata": {
    "collapsed": false
   },
   "outputs": [
    {
     "name": "stdout",
     "output_type": "stream",
     "text": [
      "Training sizes: [300, 600, 1200, 2400, 4800, 9600, 19200]\n",
      "Test size: 3588\n"
     ]
    }
   ],
   "source": [
    "with open(\"%s/scripts/table_balanced.json\" % REPO_ROOT) as f:\n",
    "    data_table = json.load(f)\n",
    "    \n",
    "TOTAL_SIZE = len(data_table)\n",
    "TRAIN_SIZES = []\n",
    "size = 300\n",
    "while size < TOTAL_SIZE - 1000:\n",
    "    TRAIN_SIZES.append(size)\n",
    "    size *= 2\n",
    "    \n",
    "TEST_SIZE = TOTAL_SIZE - TRAIN_SIZES[-1]\n",
    "\n",
    "data = {\n",
    "    \"train_sizes\": TRAIN_SIZES,\n",
    "    \"test_size\": TEST_SIZE\n",
    "}\n",
    "with open(\"%s/model-data/metadata.pickle\" % (REPO_ROOT,), \"w\") as f:\n",
    "    pickle.dump(data, f)\n",
    "\n",
    "print \"Training sizes: %s\" % TRAIN_SIZES\n",
    "print \"Test size: %d\" % TEST_SIZE"
   ]
  },
  {
   "cell_type": "code",
   "execution_count": 3,
   "metadata": {
    "collapsed": true
   },
   "outputs": [],
   "source": [
    "def vectorize_table(model_type, tokenizer, parser, table, train_size, test_size, ngram_range=(1,1)):\n",
    "    vectorizer = TfidfVectorizer(tokenizer=tokenizer, ngram_range=ngram_range)\n",
    "    \n",
    "    data = {\n",
    "        \"X_train\": vectorizer.fit_transform(parser(table[:train_size])),\n",
    "        \"Y_train\": np.array([item[\"flag-any\"] for item in table[:train_size]]),\n",
    "        \"X_test\": vectorizer.transform(parser(table[-test_size:])),\n",
    "        \"Y_test\": np.array([item[\"flag-any\"] for item in table[-test_size:]]),\n",
    "    }\n",
    "    \n",
    "    with open(\"%s/model-data/dataset_%s_%d.pickle\" % (REPO_ROOT, model_type, train_size), \"w\") as f:\n",
    "        pickle.dump(data, f)"
   ]
  },
  {
   "cell_type": "code",
   "execution_count": 22,
   "metadata": {
    "collapsed": false
   },
   "outputs": [
    {
     "name": "stdout",
     "output_type": "stream",
     "text": [
      "RegEx Training size 300\n",
      "RegEx Training size 600\n",
      "RegEx Training size 1200\n",
      "RegEx Training size 2400\n",
      "RegEx Training size 4800\n",
      "RegEx Training size 9600\n",
      "RegEx Training size 19200\n"
     ]
    }
   ],
   "source": [
    "for train_size in TRAIN_SIZES:\n",
    "    print \"RegEx Training size %d\" % train_size\n",
    "    vectorize_table(\"RegEx\", util.tokenize_js, util.parse_js, data_table, train_size, TEST_SIZE)        "
   ]
  },
  {
   "cell_type": "code",
   "execution_count": 4,
   "metadata": {
    "collapsed": false
   },
   "outputs": [
    {
     "name": "stdout",
     "output_type": "stream",
     "text": [
      "Bigram Training size 300\n",
      "Failed to parse JSON! maximum recursion depth exceeded while calling a Python object\n",
      "Bigram Training size 600\n",
      "Failed to parse JSON! maximum recursion depth exceeded while calling a Python object\n",
      "Failed to parse JSON! maximum recursion depth exceeded while calling a Python object\n",
      "Bigram Training size 1200\n",
      "Failed to parse JSON! maximum recursion depth exceeded while calling a Python object\n",
      "Failed to parse JSON! maximum recursion depth exceeded while calling a Python object\n",
      "Bigram Training size 2400\n",
      "Failed to parse JSON! maximum recursion depth exceeded while calling a Python object\n",
      "Failed to parse JSON! maximum recursion depth exceeded while calling a Python object\n",
      "Bigram Training size 4800\n",
      "Failed to parse JSON! maximum recursion depth exceeded while calling a Python object\n",
      "Failed to parse JSON! maximum recursion depth exceeded while calling a Python object\n",
      "Bigram Training size 9600\n",
      "Failed to parse JSON! maximum recursion depth exceeded while calling a Python object\n",
      "Failed to parse JSON! maximum recursion depth exceeded while calling a Python object\n",
      "Bigram Training size 19200\n",
      "Failed to parse JSON! maximum recursion depth exceeded while calling a Python object\n",
      "Failed to parse JSON! maximum recursion depth exceeded while calling a Python object\n",
      "Failed to parse JSON! maximum recursion depth exceeded while calling a Python object\n"
     ]
    }
   ],
   "source": [
    "for train_size in TRAIN_SIZES:\n",
    "    print \"AST Training size %d\" % train_size\n",
    "    vectorize_table(\"AST\", util.tokenize_ast, util.parse_ast, data_table, train_size, TEST_SIZE)\n",
    "    \n",
    "    print \"Bigram Training size %d\" % train_size\n",
    "    vectorize_table(\"Bigram\", util.tokenize_ast, util.parse_ast, data_table, train_size, TEST_SIZE, ngram_range=(1,2))"
   ]
  },
  {
   "cell_type": "code",
   "execution_count": null,
   "metadata": {
    "collapsed": true
   },
   "outputs": [],
   "source": []
  }
 ],
 "metadata": {
  "kernelspec": {
   "display_name": "Python 2",
   "language": "python",
   "name": "python2"
  },
  "language_info": {
   "codemirror_mode": {
    "name": "ipython",
    "version": 2
   },
   "file_extension": ".py",
   "mimetype": "text/x-python",
   "name": "python",
   "nbconvert_exporter": "python",
   "pygments_lexer": "ipython2",
   "version": "2.7.12"
  }
 },
 "nbformat": 4,
 "nbformat_minor": 1
}
